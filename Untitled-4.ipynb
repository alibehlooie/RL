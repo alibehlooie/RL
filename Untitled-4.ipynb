{
 "cells": [
  {
   "cell_type": "code",
   "execution_count": 64,
   "metadata": {},
   "outputs": [],
   "source": [
    "import gym\n",
    "\n",
    "from stable_baselines3 import SAC\n",
    "from env.custom_hopper import *\n",
    "from gym import Wrapper\n",
    "import glfw\n",
    "import matplotlib.pyplot as plt\n",
    "import numpy as np\n",
    "from stable_baselines3.common.callbacks import BaseCallback\n",
    "from copy import copy, deepcopy"
   ]
  },
  {
   "cell_type": "code",
   "execution_count": 75,
   "metadata": {},
   "outputs": [],
   "source": [
    "env = gym.make('CustomHopper-source-v0')\n",
    "# env = gym.make('CustomHopper-target-v0')"
   ]
  },
  {
   "cell_type": "code",
   "execution_count": 77,
   "metadata": {},
   "outputs": [
    {
     "name": "stdout",
     "output_type": "stream",
     "text": [
      "State space: Box([-inf -inf -inf -inf -inf -inf -inf -inf -inf -inf -inf], [inf inf inf inf inf inf inf inf inf inf inf], (11,), float64)\n",
      "Action space: Box([-1. -1. -1.], [1. 1. 1.], (3,), float32)\n",
      "Dynamics parameters: [2.53429174 3.92699082 2.71433605 5.0893801 ]\n",
      "[0.         2.53429174 3.92699082 2.71433605 5.0893801 ]\n",
      "('world', 'torso', 'thigh', 'leg', 'foot')\n"
     ]
    }
   ],
   "source": [
    "print('State space:', env.observation_space)  # state-space\n",
    "print('Action space:', env.action_space)  # action-space\n",
    "print('Dynamics parameters:', env.get_parameters())  # masses of each\n",
    "print(env.sim.model.body_mass)\n",
    "print(env.sim.model.body_names)"
   ]
  },
  {
   "cell_type": "code",
   "execution_count": 78,
   "metadata": {},
   "outputs": [
    {
     "data": {
      "text/plain": [
       "array([[20.   , 20.   ,  0.125],\n",
       "       [ 0.05 ,  0.2  ,  0.   ],\n",
       "       [ 0.05 ,  0.225,  0.   ],\n",
       "       [ 0.04 ,  0.25 ,  0.   ],\n",
       "       [ 0.06 ,  0.195,  0.   ]])"
      ]
     },
     "execution_count": 78,
     "metadata": {},
     "output_type": "execute_result"
    }
   ],
   "source": [
    "env.model.geom_size"
   ]
  },
  {
   "cell_type": "code",
   "execution_count": 79,
   "metadata": {},
   "outputs": [],
   "source": [
    "rewards_list = np.array([])\n",
    "n_episodes = 100\n",
    "render = False\n",
    "model = SAC.load(\"SAC-hyper-eval_callback/source-SAC_steps_1000000_lr_0.001_gamma_0.995_tau_0.01_ent_coef_auto/best_model\")"
   ]
  },
  {
   "cell_type": "code",
   "execution_count": 80,
   "metadata": {},
   "outputs": [],
   "source": [
    "class DomainRandomizationCallback(BaseCallback):\n",
    "    def __init__(self, u = 0.5, verbose=0):\n",
    "        self.u = u\n",
    "        super().__init__(verbose)   \n",
    "    \n",
    "    def _on_training_start(self) -> None:\n",
    "        self.init_env = copy(self.training_env.envs[0].unwrapped)\n",
    "        self.episode_counter = 0\n",
    "        self.step_counter = 0\n",
    "    \n",
    "    def _on_step(self) -> bool:\n",
    "        # print(\"On step\")\n",
    "        self.step_counter += 1\n",
    "\n",
    "        # at the end of the episode\n",
    "        if self.locals['dones'][0]:\n",
    "            self.episode_counter += 1\n",
    "            env = self.locals[\"env\"].envs[0]\n",
    "            env.model.body_mass[2] = self.init_env.model.body_mass[2] * np.random.uniform(1 - self.u, 1 + self.u)\n",
    "            env.model.body_mass[3] = self.init_env.model.body_mass[3] * np.random.uniform(1 - self.u, 1 + self.u)\n",
    "            env.model.body_mass[4] = self.init_env.model.body_mass[4] * np.random.uniform(1 - self.u, 1 + self.u)\n",
    "            print(f\"Episode {self.episode_counter} had {self.step_counter} steps -> Randomize env: \", env.model.body_mass)\n",
    "            self.step_counter = 0\n",
    "\n",
    "        return True\n",
    "\n",
    "    def _on_training_end(self) -> None:\n",
    "        print(f\"Training end for {self.episode_counter} episodes\")\n",
    "        print(f\"finally masses are: \", self.training_env.envs[0].unwrapped.model.body_mass)\n",
    "        pass\n",
    "\n",
    "randomize_callback = DomainRandomizationCallback(u=0.5)"
   ]
  },
  {
   "cell_type": "code",
   "execution_count": 104,
   "metadata": {},
   "outputs": [
    {
     "name": "stdout",
     "output_type": "stream",
     "text": [
      "Initial masses:                           [0.         2.53429174 3.92699082 2.71433605 5.0893801 ]\n"
     ]
    },
    {
     "name": "stdout",
     "output_type": "stream",
     "text": [
      "Episode 1 had 26 steps -> Randomize env:  [0.         2.53429174 2.73338072 4.06925378 6.17208951]\n",
      "Episode 2 had 17 steps -> Randomize env:  [0.         2.53429174 3.59359318 1.6659548  6.20756374]\n",
      "Episode 3 had 27 steps -> Randomize env:  [0.         2.53429174 4.54485546 3.16817197 7.10929807]\n",
      "Training end for 3 episodes\n",
      "finally masses are:  [0.         2.53429174 4.54485546 3.16817197 7.10929807]\n",
      "Total timesteps: 100\n"
     ]
    }
   ],
   "source": [
    "env_original = gym.make('CustomHopper-source-v0')\n",
    "env = gym.make('CustomHopper-source-v0')\n",
    "\n",
    "print(\"Initial masses:                          \", env_original.model.body_mass)\n",
    "\n",
    "model = SAC(\"MlpPolicy\", env, verbose = 0)\n",
    "\n",
    "model.learn(total_timesteps=n_episodes, callback=randomize_callback)\n",
    "\n",
    "print(f\"Total timesteps: {randomize_callback.num_timesteps}\")"
   ]
  },
  {
   "cell_type": "code",
   "execution_count": 105,
   "metadata": {},
   "outputs": [
    {
     "data": {
      "text/plain": [
       "array([0.        , 3.8014376 , 5.89048623, 4.07150408, 7.63407015])"
      ]
     },
     "execution_count": 105,
     "metadata": {},
     "output_type": "execute_result"
    }
   ],
   "source": [
    "1.5 *  env_original.model.body_mass"
   ]
  },
  {
   "cell_type": "code",
   "execution_count": 35,
   "metadata": {},
   "outputs": [
    {
     "data": {
      "image/png": "[encoded data removed]",
      "text/plain": [
       "<Figure size 640x480 with 1 Axes>"
      ]
     },
     "metadata": {},
     "output_type": "display_data"
    }
   ],
   "source": [
    "rewards_list\n",
    "plt.hist(rewards_list, bins=20)\n",
    "plt.show()"
   ]
  },
  {
   "cell_type": "code",
   "execution_count": 9,
   "metadata": {},
   "outputs": [
    {
     "data": {
      "text/plain": [
       "('world', 'torso', 'thigh', 'leg', 'foot')"
      ]
     },
     "execution_count": 9,
     "metadata": {},
     "output_type": "execute_result"
    }
   ],
   "source": [
    "env.sim.model.body_names"
   ]
  },
  {
   "cell_type": "code",
   "execution_count": 10,
   "metadata": {},
   "outputs": [
    {
     "data": {
      "text/plain": [
       "array([0.        , 2.53429174, 3.92699082, 2.71433605, 5.0893801 ])"
      ]
     },
     "execution_count": 10,
     "metadata": {},
     "output_type": "execute_result"
    }
   ],
   "source": [
    "env.sim.model.body_mass"
   ]
  },
  {
   "cell_type": "code",
   "execution_count": 38,
   "metadata": {},
   "outputs": [
    {
     "data": {
      "text/plain": [
       "(-1.3628378366769076e-05, 0.5772417653986908)"
      ]
     },
     "execution_count": 38,
     "metadata": {},
     "output_type": "execute_result"
    }
   ],
   "source": [
    "x = np.random.uniform(low = -1, high = 1, size = 10000000)\n",
    "\n",
    "np.mean(x), np.std(x)"
   ]
  },
  {
   "cell_type": "code",
   "execution_count": 17,
   "metadata": {},
   "outputs": [],
   "source": [
    "class DomainRandomizationCallback(BaseCallback):\n",
    "    def __init__(self, verbose=0):\n",
    "        super(DomainRandomizationCallback, self).__init__(verbose)\n",
    "    \n",
    "    def _on_rollout_start(self) -> None:\n",
    "        # Randomize domain parameters at the start of each episode\n",
    "        env = self.training_env.envs[0].unwrapped\n",
    "        self.randomize_domain(env)\n",
    "\n",
    "    def randomize_domain(self, env, u = 0.5):\n",
    "        # Define randomization ranges for mass and length\n",
    "        # e.g., % of the default value\n",
    "        mass_range = [1-u, 1+u] \n",
    "\n",
    "        # Iterate over all bodies in the model\n",
    "        for body_id in [2, 3, 4]:\n",
    "            # Apply randomization to mass\n",
    "            original_mass = env.model.body_mass[body_id]\n",
    "            randomized_mass = original_mass * np.random.uniform(*mass_range)\n",
    "            env.model.body_mass[body_id] = randomized_mass\n"
   ]
  }
 ],
 "metadata": {
  "kernelspec": {
   "display_name": "mldl",
   "language": "python",
   "name": "python3"
  },
  "language_info": {
   "codemirror_mode": {
    "name": "ipython",
    "version": 3
   },
   "file_extension": ".py",
   "mimetype": "text/x-python",
   "name": "python",
   "nbconvert_exporter": "python",
   "pygments_lexer": "ipython3",
   "version": "3.7.12"
  }
 },
 "nbformat": 4,
 "nbformat_minor": 2
}
