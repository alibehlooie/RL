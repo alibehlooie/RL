{
 "cells": [
  {
   "cell_type": "code",
   "execution_count": 1,
   "metadata": {},
   "outputs": [],
   "source": [
    "import argparse\n",
    "\n",
    "import numpy as np\n",
    "import matplotlib.pyplot as plt\n",
    "from agent import Agent, Policy\n",
    "\n",
    "import gym\n",
    "from env.custom_hopper import *\n",
    "\n",
    "from stable_baselines3 import SAC\n",
    "from stable_baselines3.common.callbacks import BaseCallback\n",
    "from stable_baselines3.common.vec_env import DummyVecEnv\n",
    "from stable_baselines3.common.evaluation import evaluate_policy\n",
    "from stable_baselines3.common.callbacks import EvalCallback, StopTrainingOnRewardThreshold\n",
    "from stable_baselines3.common.monitor import Monitor"
   ]
  },
  {
   "cell_type": "code",
   "execution_count": 2,
   "metadata": {},
   "outputs": [],
   "source": [
    "class RewardTrackerCallback(BaseCallback):\n",
    "    \"\"\"\n",
    "    Custom callback for tracking rewards during training.\n",
    "    \"\"\"\n",
    "    def __init__(self, check_freq: int = 10, verbose : int = 1):\n",
    "        super(RewardTrackerCallback, self).__init__(verbose)\n",
    "        self.check_freq = check_freq\n",
    "        self.rewards = []  # List to store episode rewards\n",
    "        self.verbose = verbose\n",
    "\n",
    "    def _on_training_start(self):\n",
    "        \"\"\"\n",
    "        This method is called before the first rollout starts.\n",
    "        \"\"\"\n",
    "        print(\"Training started\")\n",
    "        pass\n",
    "\n",
    "    def _on_step(self):\n",
    "        if(reward_tracker.locals[\"dones\"][0]):\n",
    "            print(\"We fell down in step\", self.n_calls)\n",
    "        # if self.n_calls % self.check_freq == 0:\n",
    "            # self.rewards.append(self.locals[\"rewards\"][0])  # Directly append the reward\n",
    "            \n",
    "            # if self.verbose > 0:\n",
    "                # print(f\"Episode {len(self.rewards)} - Reward: {self.rewards[-1]}\")\n",
    "        return True\n",
    "\n",
    "reward_tracker = RewardTrackerCallback(check_freq = 10, verbose = 1)"
   ]
  },
  {
   "cell_type": "code",
   "execution_count": 3,
   "metadata": {},
   "outputs": [],
   "source": [
    "eval_env = gym.make('CustomHopper-source-v0')\n",
    "\n",
    "# a calback that stops training when the reward threshold is reached\n",
    "stop_callback = StopTrainingOnRewardThreshold(reward_threshold = 2500, verbose=1)\n",
    "\n",
    "# a callback that evaluates the policy every 1000 steps\n",
    "eval_callback = EvalCallback(eval_env, callback_on_new_best = stop_callback, verbose=1, eval_freq = 100)"
   ]
  },
  {
   "cell_type": "code",
   "execution_count": 4,
   "metadata": {},
   "outputs": [],
   "source": [
    "env = gym.make('CustomHopper-source-v0')\n",
    "model = SAC(\"MlpPolicy\", env, verbose = 0)"
   ]
  },
  {
   "cell_type": "code",
   "execution_count": 9,
   "metadata": {},
   "outputs": [
    {
     "data": {
      "text/plain": [
       "('world', 'torso', 'thigh', 'leg', 'foot')"
      ]
     },
     "execution_count": 9,
     "metadata": {},
     "output_type": "execute_result"
    }
   ],
   "source": [
    "env.sim.model.body_names"
   ]
  },
  {
   "cell_type": "code",
   "execution_count": 12,
   "metadata": {},
   "outputs": [
    {
     "data": {
      "text/plain": [
       "array([0.        , 2.53429174, 3.92699082, 2.71433605, 5.0893801 ])"
      ]
     },
     "execution_count": 12,
     "metadata": {},
     "output_type": "execute_result"
    }
   ],
   "source": [
    "env.sim.model.body_mass"
   ]
  },
  {
   "cell_type": "code",
   "execution_count": 12,
   "metadata": {},
   "outputs": [],
   "source": [
    "eval_callback._on_training_start()\n"
   ]
  },
  {
   "cell_type": "code",
   "execution_count": 5,
   "metadata": {},
   "outputs": [
    {
     "data": {
      "application/vnd.jupyter.widget-view+json": {
       "model_id": "2989e340da0949a0b5201d4453c9387e",
       "version_major": 2,
       "version_minor": 0
      },
      "text/plain": [
       "Output()"
      ]
     },
     "metadata": {},
     "output_type": "display_data"
    },
    {
     "data": {
      "text/html": [
       "<pre style=\"white-space:pre;overflow-x:auto;line-height:normal;font-family:Menlo,'DejaVu Sans Mono',consolas,'Courier New',monospace\">/home/saja/workspace/anaconda3/envs/mldl/lib/python3.7/site-packages/stable_baselines3/common/evaluation.py:71: \n",
       "UserWarning: Evaluation environment is not wrapped with a ``Monitor`` wrapper. This may result in reporting \n",
       "modified episode lengths and rewards, if other wrappers happen to modify these. Consider wrapping environment first\n",
       "with ``Monitor`` wrapper.\n",
       "  UserWarning,\n",
       "</pre>\n"
      ],
      "text/plain": [
       "/home/saja/workspace/anaconda3/envs/mldl/lib/python3.7/site-packages/stable_baselines3/common/evaluation.py:71: \n",
       "UserWarning: Evaluation environment is not wrapped with a ``Monitor`` wrapper. This may result in reporting \n",
       "modified episode lengths and rewards, if other wrappers happen to modify these. Consider wrapping environment first\n",
       "with ``Monitor`` wrapper.\n",
       "  UserWarning,\n"
      ]
     },
     "metadata": {},
     "output_type": "display_data"
    },
    {
     "data": {
      "text/html": [
       "<pre style=\"white-space:pre;overflow-x:auto;line-height:normal;font-family:Menlo,'DejaVu Sans Mono',consolas,'Courier New',monospace\">Eval num_timesteps=100, episode_reward=129.26 +/- 2.82\n",
       "</pre>\n"
      ],
      "text/plain": [
       "Eval num_timesteps=100, episode_reward=129.26 +/- 2.82\n"
      ]
     },
     "metadata": {},
     "output_type": "display_data"
    },
    {
     "data": {
      "text/html": [
       "<pre style=\"white-space:pre;overflow-x:auto;line-height:normal;font-family:Menlo,'DejaVu Sans Mono',consolas,'Courier New',monospace\">Episode length: 100.40 +/- 2.06\n",
       "</pre>\n"
      ],
      "text/plain": [
       "Episode length: 100.40 +/- 2.06\n"
      ]
     },
     "metadata": {},
     "output_type": "display_data"
    },
    {
     "data": {
      "text/html": [
       "<pre style=\"white-space:pre;overflow-x:auto;line-height:normal;font-family:Menlo,'DejaVu Sans Mono',consolas,'Courier New',monospace\">New best mean reward!\n",
       "</pre>\n"
      ],
      "text/plain": [
       "New best mean reward!\n"
      ]
     },
     "metadata": {},
     "output_type": "display_data"
    },
    {
     "data": {
      "text/html": [
       "<pre style=\"white-space:pre;overflow-x:auto;line-height:normal;font-family:Menlo,'DejaVu Sans Mono',consolas,'Courier New',monospace\">Eval num_timesteps=200, episode_reward=45.02 +/- 1.30\n",
       "</pre>\n"
      ],
      "text/plain": [
       "Eval num_timesteps=200, episode_reward=45.02 +/- 1.30\n"
      ]
     },
     "metadata": {},
     "output_type": "display_data"
    },
    {
     "data": {
      "text/html": [
       "<pre style=\"white-space:pre;overflow-x:auto;line-height:normal;font-family:Menlo,'DejaVu Sans Mono',consolas,'Courier New',monospace\">Episode length: 74.20 +/- 1.72\n",
       "</pre>\n"
      ],
      "text/plain": [
       "Episode length: 74.20 +/- 1.72\n"
      ]
     },
     "metadata": {},
     "output_type": "display_data"
    },
    {
     "data": {
      "text/html": [
       "<pre style=\"white-space:pre;overflow-x:auto;line-height:normal;font-family:Menlo,'DejaVu Sans Mono',consolas,'Courier New',monospace\">Eval num_timesteps=300, episode_reward=26.54 +/- 0.22\n",
       "</pre>\n"
      ],
      "text/plain": [
       "Eval num_timesteps=300, episode_reward=26.54 +/- 0.22\n"
      ]
     },
     "metadata": {},
     "output_type": "display_data"
    },
    {
     "data": {
      "text/html": [
       "<pre style=\"white-space:pre;overflow-x:auto;line-height:normal;font-family:Menlo,'DejaVu Sans Mono',consolas,'Courier New',monospace\">Episode length: 55.40 +/- 0.49\n",
       "</pre>\n"
      ],
      "text/plain": [
       "Episode length: 55.40 +/- 0.49\n"
      ]
     },
     "metadata": {},
     "output_type": "display_data"
    },
    {
     "data": {
      "text/html": [
       "<pre style=\"white-space:pre;overflow-x:auto;line-height:normal;font-family:Menlo,'DejaVu Sans Mono',consolas,'Courier New',monospace\">Eval num_timesteps=400, episode_reward=42.37 +/- 2.02\n",
       "</pre>\n"
      ],
      "text/plain": [
       "Eval num_timesteps=400, episode_reward=42.37 +/- 2.02\n"
      ]
     },
     "metadata": {},
     "output_type": "display_data"
    },
    {
     "data": {
      "text/html": [
       "<pre style=\"white-space:pre;overflow-x:auto;line-height:normal;font-family:Menlo,'DejaVu Sans Mono',consolas,'Courier New',monospace\">Episode length: 71.40 +/- 2.50\n",
       "</pre>\n"
      ],
      "text/plain": [
       "Episode length: 71.40 +/- 2.50\n"
      ]
     },
     "metadata": {},
     "output_type": "display_data"
    },
    {
     "data": {
      "text/html": [
       "<pre style=\"white-space:pre;overflow-x:auto;line-height:normal;font-family:Menlo,'DejaVu Sans Mono',consolas,'Courier New',monospace\">Eval num_timesteps=500, episode_reward=71.91 +/- 7.29\n",
       "</pre>\n"
      ],
      "text/plain": [
       "Eval num_timesteps=500, episode_reward=71.91 +/- 7.29\n"
      ]
     },
     "metadata": {},
     "output_type": "display_data"
    },
    {
     "data": {
      "text/html": [
       "<pre style=\"white-space:pre;overflow-x:auto;line-height:normal;font-family:Menlo,'DejaVu Sans Mono',consolas,'Courier New',monospace\">Episode length: 101.00 +/- 8.07\n",
       "</pre>\n"
      ],
      "text/plain": [
       "Episode length: 101.00 +/- 8.07\n"
      ]
     },
     "metadata": {},
     "output_type": "display_data"
    },
    {
     "data": {
      "text/html": [
       "<pre style=\"white-space:pre;overflow-x:auto;line-height:normal;font-family:Menlo,'DejaVu Sans Mono',consolas,'Courier New',monospace\">Eval num_timesteps=600, episode_reward=125.02 +/- 29.78\n",
       "</pre>\n"
      ],
      "text/plain": [
       "Eval num_timesteps=600, episode_reward=125.02 +/- 29.78\n"
      ]
     },
     "metadata": {},
     "output_type": "display_data"
    },
    {
     "data": {
      "text/html": [
       "<pre style=\"white-space:pre;overflow-x:auto;line-height:normal;font-family:Menlo,'DejaVu Sans Mono',consolas,'Courier New',monospace\">Episode length: 153.60 +/- 30.55\n",
       "</pre>\n"
      ],
      "text/plain": [
       "Episode length: 153.60 +/- 30.55\n"
      ]
     },
     "metadata": {},
     "output_type": "display_data"
    },
    {
     "data": {
      "text/html": [
       "<pre style=\"white-space:pre;overflow-x:auto;line-height:normal;font-family:Menlo,'DejaVu Sans Mono',consolas,'Courier New',monospace\">Eval num_timesteps=700, episode_reward=93.41 +/- 2.55\n",
       "</pre>\n"
      ],
      "text/plain": [
       "Eval num_timesteps=700, episode_reward=93.41 +/- 2.55\n"
      ]
     },
     "metadata": {},
     "output_type": "display_data"
    },
    {
     "data": {
      "text/html": [
       "<pre style=\"white-space:pre;overflow-x:auto;line-height:normal;font-family:Menlo,'DejaVu Sans Mono',consolas,'Courier New',monospace\">Episode length: 65.00 +/- 1.79\n",
       "</pre>\n"
      ],
      "text/plain": [
       "Episode length: 65.00 +/- 1.79\n"
      ]
     },
     "metadata": {},
     "output_type": "display_data"
    },
    {
     "data": {
      "text/html": [
       "<pre style=\"white-space:pre;overflow-x:auto;line-height:normal;font-family:Menlo,'DejaVu Sans Mono',consolas,'Courier New',monospace\">Eval num_timesteps=800, episode_reward=81.67 +/- 0.41\n",
       "</pre>\n"
      ],
      "text/plain": [
       "Eval num_timesteps=800, episode_reward=81.67 +/- 0.41\n"
      ]
     },
     "metadata": {},
     "output_type": "display_data"
    },
    {
     "data": {
      "text/html": [
       "<pre style=\"white-space:pre;overflow-x:auto;line-height:normal;font-family:Menlo,'DejaVu Sans Mono',consolas,'Courier New',monospace\">Episode length: 53.20 +/- 0.40\n",
       "</pre>\n"
      ],
      "text/plain": [
       "Episode length: 53.20 +/- 0.40\n"
      ]
     },
     "metadata": {},
     "output_type": "display_data"
    },
    {
     "data": {
      "text/html": [
       "<pre style=\"white-space:pre;overflow-x:auto;line-height:normal;font-family:Menlo,'DejaVu Sans Mono',consolas,'Courier New',monospace\">Eval num_timesteps=900, episode_reward=75.31 +/- 2.42\n",
       "</pre>\n"
      ],
      "text/plain": [
       "Eval num_timesteps=900, episode_reward=75.31 +/- 2.42\n"
      ]
     },
     "metadata": {},
     "output_type": "display_data"
    },
    {
     "data": {
      "text/html": [
       "<pre style=\"white-space:pre;overflow-x:auto;line-height:normal;font-family:Menlo,'DejaVu Sans Mono',consolas,'Courier New',monospace\">Episode length: 46.60 +/- 1.50\n",
       "</pre>\n"
      ],
      "text/plain": [
       "Episode length: 46.60 +/- 1.50\n"
      ]
     },
     "metadata": {},
     "output_type": "display_data"
    },
    {
     "data": {
      "text/html": [
       "<pre style=\"white-space:pre;overflow-x:auto;line-height:normal;font-family:Menlo,'DejaVu Sans Mono',consolas,'Courier New',monospace\">Eval num_timesteps=1000, episode_reward=63.91 +/- 1.70\n",
       "</pre>\n"
      ],
      "text/plain": [
       "Eval num_timesteps=1000, episode_reward=63.91 +/- 1.70\n"
      ]
     },
     "metadata": {},
     "output_type": "display_data"
    },
    {
     "data": {
      "text/html": [
       "<pre style=\"white-space:pre;overflow-x:auto;line-height:normal;font-family:Menlo,'DejaVu Sans Mono',consolas,'Courier New',monospace\">Episode length: 37.60 +/- 0.80\n",
       "</pre>\n"
      ],
      "text/plain": [
       "Episode length: 37.60 +/- 0.80\n"
      ]
     },
     "metadata": {},
     "output_type": "display_data"
    },
    {
     "data": {
      "text/html": [
       "<pre style=\"white-space:pre;overflow-x:auto;line-height:normal;font-family:Menlo,'DejaVu Sans Mono',consolas,'Courier New',monospace\"></pre>\n"
      ],
      "text/plain": []
     },
     "metadata": {},
     "output_type": "display_data"
    },
    {
     "data": {
      "text/html": [
       "<pre style=\"white-space:pre;overflow-x:auto;line-height:normal;font-family:Menlo,'DejaVu Sans Mono',consolas,'Courier New',monospace\">\n",
       "</pre>\n"
      ],
      "text/plain": [
       "\n"
      ]
     },
     "metadata": {},
     "output_type": "display_data"
    },
    {
     "data": {
      "text/plain": [
       "<stable_baselines3.sac.sac.SAC at 0x7222f9f2d210>"
      ]
     },
     "execution_count": 5,
     "metadata": {},
     "output_type": "execute_result"
    }
   ],
   "source": [
    "model.learn(total_timesteps=1000, callback=eval_callback, progress_bar = True)"
   ]
  },
  {
   "cell_type": "code",
   "execution_count": 11,
   "metadata": {},
   "outputs": [
    {
     "data": {
      "text/plain": [
       "[]"
      ]
     },
     "execution_count": 11,
     "metadata": {},
     "output_type": "execute_result"
    }
   ],
   "source": [
    "eval_callback.evaluations_results"
   ]
  },
  {
   "cell_type": "code",
   "execution_count": 10,
   "metadata": {},
   "outputs": [
    {
     "data": {
      "text/plain": [
       "<stable_baselines3.sac.sac.SAC at 0x794f6870ce90>"
      ]
     },
     "execution_count": 10,
     "metadata": {},
     "output_type": "execute_result"
    }
   ],
   "source": [
    "eval_callback.model"
   ]
  },
  {
   "cell_type": "code",
   "execution_count": 53,
   "metadata": {},
   "outputs": [
    {
     "data": {
      "text/plain": [
       "1000"
      ]
     },
     "execution_count": 53,
     "metadata": {},
     "output_type": "execute_result"
    }
   ],
   "source": [
    "reward_tracker.n_calls"
   ]
  },
  {
   "cell_type": "code",
   "execution_count": 60,
   "metadata": {},
   "outputs": [
    {
     "data": {
      "text/plain": [
       "False"
      ]
     },
     "execution_count": 60,
     "metadata": {},
     "output_type": "execute_result"
    }
   ],
   "source": [
    "reward_tracker.locals[\"dones\"][0]"
   ]
  },
  {
   "cell_type": "code",
   "execution_count": 11,
   "metadata": {},
   "outputs": [],
   "source": [
    "eval_callback.model.save(\"test\")"
   ]
  }
 ],
 "metadata": {
  "kernelspec": {
   "display_name": "mldl",
   "language": "python",
   "name": "python3"
  },
  "language_info": {
   "codemirror_mode": {
    "name": "ipython",
    "version": 3
   },
   "file_extension": ".py",
   "mimetype": "text/x-python",
   "name": "python",
   "nbconvert_exporter": "python",
   "pygments_lexer": "ipython3",
   "version": "3.7.12"
  }
 },
 "nbformat": 4,
 "nbformat_minor": 2
}
