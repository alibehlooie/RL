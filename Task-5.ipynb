{
 "cells": [
  {
   "cell_type": "markdown",
   "metadata": {},
   "source": [
    "### Task 5  - Train and test your policies\n",
    "\n",
    "In this notebook, we use the trained model to test the performance of the policy."
   ]
  },
  {
   "cell_type": "code",
   "execution_count": 1,
   "metadata": {},
   "outputs": [],
   "source": [
    "import argparse\n",
    "\n",
    "import gym\n",
    "\n",
    "from stable_baselines3 import SAC\n",
    "from env.custom_hopper import *\n",
    "from gym import Wrapper\n",
    "from mujoco_py import GlfwContext\n",
    "import glfw\n",
    "import matplotlib.pyplot as plt\n",
    "import numpy as np\n",
    "import os"
   ]
  },
  {
   "cell_type": "code",
   "execution_count": 2,
   "metadata": {},
   "outputs": [],
   "source": [
    "n_episodes = 50\n",
    "seed_value = 1234"
   ]
  },
  {
   "cell_type": "code",
   "execution_count": 3,
   "metadata": {},
   "outputs": [],
   "source": [
    "source_env = gym.make('CustomHopper-source-v0')\n",
    "target_env = gym.make('CustomHopper-target-v0')\n"
   ]
  },
  {
   "cell_type": "code",
   "execution_count": 5,
   "metadata": {},
   "outputs": [],
   "source": [
    "source_model = SAC.load(\"SAC-hyper-eval_callback/SAC_steps_100000_lr_0.001_gamma_0.995_tau_0.01_ent_coef_auto/best_model.zip\")\n",
    "\n",
    "target_model = SAC.load(\"SAC-hyper-eval_callback/SAC_steps_100000_lr_0.0003_gamma_0.99_tau_0.005_ent_coef_auto_target/best_model.zip\")"
   ]
  },
  {
   "cell_type": "code",
   "execution_count": 6,
   "metadata": {},
   "outputs": [],
   "source": [
    "def get_reward(env, model, n_episodes, seed, verbose = True):\n",
    "    reward_list = np.array([])\n",
    "\n",
    "    for i in range(n_episodes):\n",
    "        done = False\n",
    "        env.seed(seed + i)\n",
    "        state = env.reset()\n",
    "        total_reward = 0\n",
    "        step_count = 0\n",
    "\n",
    "        while not done:\n",
    "            action, _ = model.predict(state, deterministic=True)\n",
    "\n",
    "            state, reward, done, _ = env.step(action)\n",
    "            total_reward += reward\n",
    "            step_count += 1\n",
    "\n",
    "        if verbose:\n",
    "            print(f\"Episode {i} reward: {total_reward} in total {step_count} steps\")\n",
    "\n",
    "        reward_list = np.append(reward_list, total_reward)\n",
    "\n",
    "    return (reward_list)"
   ]
  },
  {
   "cell_type": "code",
   "execution_count": 7,
   "metadata": {},
   "outputs": [
    {
     "name": "stdout",
     "output_type": "stream",
     "text": [
      "Episode 0 reward: 1535.9920321337434 in total 500 steps\n",
      "Episode 1 reward: 1545.9931145481937 in total 500 steps\n",
      "Episode 2 reward: 1531.331741206542 in total 500 steps\n",
      "Episode 3 reward: 1535.693032598516 in total 500 steps\n",
      "Episode 4 reward: 1543.0568469278812 in total 500 steps\n",
      "Episode 5 reward: 1526.8612030872082 in total 500 steps\n",
      "Episode 6 reward: 1531.3647140867747 in total 500 steps\n",
      "Episode 7 reward: 1548.5479367744645 in total 500 steps\n",
      "Episode 8 reward: 1547.4519264917842 in total 500 steps\n",
      "Episode 9 reward: 1493.6930033778967 in total 500 steps\n",
      "Episode 10 reward: 1547.791512353097 in total 500 steps\n",
      "Episode 11 reward: 1534.4616135903575 in total 500 steps\n",
      "Episode 12 reward: 1533.3983490785304 in total 500 steps\n",
      "Episode 13 reward: 1545.6267323863335 in total 500 steps\n",
      "Episode 14 reward: 1540.7382294046029 in total 500 steps\n",
      "Episode 15 reward: 1545.6013995150586 in total 500 steps\n",
      "Episode 16 reward: 1533.1547403855748 in total 500 steps\n",
      "Episode 17 reward: 1529.0654973267663 in total 500 steps\n",
      "Episode 18 reward: 1517.698963471277 in total 500 steps\n",
      "Episode 19 reward: 1535.122922121767 in total 500 steps\n",
      "Episode 20 reward: 1530.0739591930894 in total 500 steps\n",
      "Episode 21 reward: 1540.4924151638152 in total 500 steps\n",
      "Episode 22 reward: 1540.2614923818908 in total 500 steps\n",
      "Episode 23 reward: 1542.228070725438 in total 500 steps\n",
      "Episode 24 reward: 1542.7611079903709 in total 500 steps\n",
      "Episode 25 reward: 1541.208571710747 in total 500 steps\n",
      "Episode 26 reward: 1539.0597393533053 in total 500 steps\n",
      "Episode 27 reward: 1535.1958055811717 in total 500 steps\n",
      "Episode 28 reward: 1536.997178076124 in total 500 steps\n",
      "Episode 29 reward: 1531.9992925699785 in total 500 steps\n",
      "Episode 30 reward: 1537.4515470219856 in total 500 steps\n",
      "Episode 31 reward: 1530.4609953122413 in total 500 steps\n",
      "Episode 32 reward: 1529.6331156267363 in total 500 steps\n",
      "Episode 33 reward: 1542.0213876479947 in total 500 steps\n",
      "Episode 34 reward: 1538.8116646576493 in total 500 steps\n",
      "Episode 35 reward: 1537.762153185094 in total 500 steps\n",
      "Episode 36 reward: 1545.3942392960705 in total 500 steps\n",
      "Episode 37 reward: 1545.3110802897172 in total 500 steps\n",
      "Episode 38 reward: 1542.4566867773895 in total 500 steps\n",
      "Episode 39 reward: 1540.9941875135094 in total 500 steps\n",
      "Episode 40 reward: 1539.8497342718858 in total 500 steps\n",
      "Episode 41 reward: 1502.3375203309379 in total 500 steps\n",
      "Episode 42 reward: 1543.6561582698214 in total 500 steps\n",
      "Episode 43 reward: 1533.7816068717218 in total 500 steps\n",
      "Episode 44 reward: 1544.1319919001821 in total 500 steps\n",
      "Episode 45 reward: 1547.0704876435627 in total 500 steps\n",
      "Episode 46 reward: 1506.722991304197 in total 500 steps\n",
      "Episode 47 reward: 1539.658383139266 in total 500 steps\n",
      "Episode 48 reward: 1527.3310039634405 in total 500 steps\n",
      "Episode 49 reward: 1545.6344716776007 in total 500 steps\n"
     ]
    }
   ],
   "source": [
    "rewards_list_source_source = get_reward(source_env, source_model, n_episodes, seed_value)"
   ]
  },
  {
   "cell_type": "code",
   "execution_count": 8,
   "metadata": {},
   "outputs": [
    {
     "name": "stdout",
     "output_type": "stream",
     "text": [
      "Episode 0 reward: 1122.751879921617 in total 366 steps\n",
      "Episode 1 reward: 1410.1166609978084 in total 500 steps\n",
      "Episode 2 reward: 1404.039040870683 in total 500 steps\n",
      "Episode 3 reward: 1278.392306755622 in total 410 steps\n",
      "Episode 4 reward: 1414.1833220040362 in total 500 steps\n",
      "Episode 5 reward: 1395.9786284204945 in total 500 steps\n",
      "Episode 6 reward: 1387.5912616135242 in total 500 steps\n",
      "Episode 7 reward: 1417.7208796819793 in total 500 steps\n",
      "Episode 8 reward: 1221.3342308310469 in total 388 steps\n",
      "Episode 9 reward: 1430.7339458558229 in total 500 steps\n",
      "Episode 10 reward: 1179.5605881946408 in total 379 steps\n",
      "Episode 11 reward: 1414.1543906986017 in total 500 steps\n",
      "Episode 12 reward: 1398.7238137483864 in total 500 steps\n",
      "Episode 13 reward: 1387.681277520109 in total 500 steps\n",
      "Episode 14 reward: 1393.2737727635629 in total 500 steps\n",
      "Episode 15 reward: 1158.6444081034774 in total 374 steps\n",
      "Episode 16 reward: 1393.5356075998832 in total 500 steps\n",
      "Episode 17 reward: 1429.6133246046816 in total 500 steps\n",
      "Episode 18 reward: 1402.1682459928672 in total 500 steps\n",
      "Episode 19 reward: 1412.3376209210273 in total 500 steps\n",
      "Episode 20 reward: 1399.9948255924246 in total 500 steps\n",
      "Episode 21 reward: 1414.4193798394551 in total 500 steps\n",
      "Episode 22 reward: 1391.5077428591846 in total 500 steps\n",
      "Episode 23 reward: 1373.3658559552237 in total 500 steps\n",
      "Episode 24 reward: 1175.0659145038637 in total 377 steps\n",
      "Episode 25 reward: 1265.3313857280382 in total 402 steps\n",
      "Episode 26 reward: 1428.853881384701 in total 500 steps\n",
      "Episode 27 reward: 1426.4419878489548 in total 500 steps\n",
      "Episode 28 reward: 1411.9973469715821 in total 500 steps\n",
      "Episode 29 reward: 1407.8792912840383 in total 500 steps\n",
      "Episode 30 reward: 1411.6395122412575 in total 500 steps\n",
      "Episode 31 reward: 1427.2990504477127 in total 500 steps\n",
      "Episode 32 reward: 1418.884924495242 in total 500 steps\n",
      "Episode 33 reward: 1389.1115391524552 in total 500 steps\n",
      "Episode 34 reward: 1505.0828100213357 in total 500 steps\n",
      "Episode 35 reward: 1397.635866489292 in total 500 steps\n",
      "Episode 36 reward: 1393.9846717591827 in total 500 steps\n",
      "Episode 37 reward: 1404.6002230889478 in total 500 steps\n",
      "Episode 38 reward: 1143.2626099499953 in total 372 steps\n",
      "Episode 39 reward: 1271.7779051903326 in total 404 steps\n",
      "Episode 40 reward: 1175.7578854771766 in total 382 steps\n",
      "Episode 41 reward: 1400.5759144102574 in total 500 steps\n",
      "Episode 42 reward: 1142.124279753748 in total 370 steps\n",
      "Episode 43 reward: 1129.6799653012654 in total 369 steps\n",
      "Episode 44 reward: 1126.8484572092711 in total 368 steps\n",
      "Episode 45 reward: 1135.0238853674637 in total 370 steps\n",
      "Episode 46 reward: 1135.4491352599593 in total 371 steps\n",
      "Episode 47 reward: 1146.732794150798 in total 375 steps\n",
      "Episode 48 reward: 1403.1034236190042 in total 500 steps\n",
      "Episode 49 reward: 1394.161436039029 in total 500 steps\n"
     ]
    }
   ],
   "source": [
    "rewards_list_source_target = get_reward(source_env, target_model, n_episodes, seed_value)"
   ]
  },
  {
   "cell_type": "code",
   "execution_count": 10,
   "metadata": {},
   "outputs": [
    {
     "name": "stdout",
     "output_type": "stream",
     "text": [
      "Episode 0 reward: 1610.5399026787748 in total 500 steps\n",
      "Episode 1 reward: 1543.355959650855 in total 500 steps\n",
      "Episode 2 reward: 1500.3297771981283 in total 500 steps\n",
      "Episode 3 reward: 1587.6367124275694 in total 500 steps\n",
      "Episode 4 reward: 1561.1068944172466 in total 500 steps\n",
      "Episode 5 reward: 1516.182103998069 in total 500 steps\n",
      "Episode 6 reward: 1583.339949404261 in total 500 steps\n",
      "Episode 7 reward: 1504.9927594494945 in total 500 steps\n",
      "Episode 8 reward: 1635.41457912028 in total 482 steps\n",
      "Episode 9 reward: 1530.3060499681994 in total 500 steps\n",
      "Episode 10 reward: 1574.7617136434267 in total 500 steps\n",
      "Episode 11 reward: 1524.0105733006003 in total 500 steps\n",
      "Episode 12 reward: 1565.583769696052 in total 500 steps\n",
      "Episode 13 reward: 1496.3742305816334 in total 500 steps\n",
      "Episode 14 reward: 1531.5134033246875 in total 500 steps\n",
      "Episode 15 reward: 1582.401801714155 in total 500 steps\n",
      "Episode 16 reward: 1614.1109682432582 in total 500 steps\n",
      "Episode 17 reward: 1557.4138094461473 in total 500 steps\n",
      "Episode 18 reward: 1595.5206643227887 in total 500 steps\n",
      "Episode 19 reward: 1635.403976440977 in total 500 steps\n",
      "Episode 20 reward: 1552.3346046070976 in total 500 steps\n",
      "Episode 21 reward: 1566.9167853468557 in total 500 steps\n",
      "Episode 22 reward: 1527.6812497151589 in total 500 steps\n",
      "Episode 23 reward: 1539.6126090551668 in total 500 steps\n",
      "Episode 24 reward: 1565.58068762927 in total 500 steps\n",
      "Episode 25 reward: 1509.841006882051 in total 500 steps\n",
      "Episode 26 reward: 1627.266159151574 in total 500 steps\n",
      "Episode 27 reward: 1594.6838592076638 in total 500 steps\n",
      "Episode 28 reward: 1627.3417953484504 in total 500 steps\n",
      "Episode 29 reward: 1610.1449256505666 in total 500 steps\n",
      "Episode 30 reward: 1579.139047863577 in total 500 steps\n",
      "Episode 31 reward: 1505.95395921611 in total 500 steps\n",
      "Episode 32 reward: 1529.9062787393675 in total 500 steps\n",
      "Episode 33 reward: 1641.4181309499565 in total 491 steps\n",
      "Episode 34 reward: 1526.2664113513124 in total 500 steps\n",
      "Episode 35 reward: 1560.2885125753855 in total 500 steps\n",
      "Episode 36 reward: 1602.0246968467977 in total 500 steps\n",
      "Episode 37 reward: 1627.3880338192619 in total 500 steps\n",
      "Episode 38 reward: 1567.0749767496152 in total 500 steps\n",
      "Episode 39 reward: 1634.761227453421 in total 496 steps\n",
      "Episode 40 reward: 1535.209029676187 in total 500 steps\n",
      "Episode 41 reward: 1616.6619274002521 in total 500 steps\n",
      "Episode 42 reward: 1532.1330885789143 in total 500 steps\n",
      "Episode 43 reward: 1664.584237120708 in total 500 steps\n",
      "Episode 44 reward: 1590.4843976125742 in total 500 steps\n",
      "Episode 45 reward: 1604.2918192585307 in total 500 steps\n",
      "Episode 46 reward: 1593.2755717904183 in total 500 steps\n",
      "Episode 47 reward: 1618.937953861217 in total 500 steps\n",
      "Episode 48 reward: 1529.0293121654383 in total 500 steps\n",
      "Episode 49 reward: 1595.766129174053 in total 500 steps\n"
     ]
    }
   ],
   "source": [
    "rewards_list_target_target = get_reward(target_env, target_model, n_episodes, seed_value)"
   ]
  },
  {
   "cell_type": "code",
   "execution_count": 11,
   "metadata": {},
   "outputs": [
    {
     "name": "stdout",
     "output_type": "stream",
     "text": [
      "source-source: 1536.067891006266 +- 11.059064702185337\n",
      "source-target: 1334.0025821698212 +- 114.1046904827748\n",
      "target-target: 1572.525960476471 +- 43.40665982784896\n"
     ]
    }
   ],
   "source": [
    "print(f\"source-source: {rewards_list_source_source.mean()} +- {rewards_list_source_source.std()}\")\n",
    "print(f\"source-target: {rewards_list_source_target.mean()} +- {rewards_list_source_target.std()}\")\n",
    "print(f\"target-target: {rewards_list_target_target.mean()} +- {rewards_list_target_target.std()}\")"
   ]
  },
  {
   "cell_type": "code",
   "execution_count": 12,
   "metadata": {},
   "outputs": [
    {
     "data": {
      "image/png": "[encoded data removed]",
      "text/plain": [
       "<Figure size 640x480 with 1 Axes>"
      ]
     },
     "metadata": {},
     "output_type": "display_data"
    }
   ],
   "source": [
    "# plot histograms\n",
    "plt.hist(rewards_list_source_source, bins=20, alpha=0.5, label='source-source')\n",
    "plt.hist(rewards_list_source_target, bins=20, alpha=0.5, label='source-target')\n",
    "plt.hist(rewards_list_target_target, bins=20, alpha=0.5, label='target-target')\n",
    "\n",
    "# plot a vertical line for the mean\n",
    "plt.axvline(rewards_list_source_source.mean(), color='k', linestyle='dashed', linewidth=1)\n",
    "plt.axvline(rewards_list_source_target.mean(), color='k', linestyle='dashed', linewidth=1)\n",
    "plt.axvline(rewards_list_target_target.mean(), color='k', linestyle='dashed', linewidth=1)\n",
    "\n",
    "plt.legend(loc='upper right')\n",
    "plt.title('Histogram of rewards')\n",
    "plt.xlabel('Reward')\n",
    "plt.ylabel('Frequency')\n",
    "plt.show()\n",
    "plt.savefig(\"bounds.png\")"
   ]
  }
 ],
 "metadata": {
  "kernelspec": {
   "display_name": "mldl",
   "language": "python",
   "name": "python3"
  },
  "language_info": {
   "codemirror_mode": {
    "name": "ipython",
    "version": 3
   },
   "file_extension": ".py",
   "mimetype": "text/x-python",
   "name": "python",
   "nbconvert_exporter": "python",
   "pygments_lexer": "ipython3",
   "version": "3.7.12"
  }
 },
 "nbformat": 4,
 "nbformat_minor": 2
}
