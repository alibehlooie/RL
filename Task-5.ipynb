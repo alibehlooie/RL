{
 "cells": [
  {
   "cell_type": "markdown",
   "metadata": {},
   "source": [
    "### Task 5  - Train and test your policies\n",
    "\n",
    "In this notebook, we use the trained model to test the performance of the policy."
   ]
  },
  {
   "cell_type": "code",
   "execution_count": 20,
   "metadata": {},
   "outputs": [],
   "source": [
    "import argparse\n",
    "\n",
    "import gym\n",
    "\n",
    "from stable_baselines3 import SAC\n",
    "from env.custom_hopper import *\n",
    "from gym import Wrapper\n",
    "from mujoco_py import GlfwContext\n",
    "import glfw\n",
    "import matplotlib.pyplot as plt\n",
    "import numpy as np\n",
    "import os"
   ]
  },
  {
   "cell_type": "code",
   "execution_count": 21,
   "metadata": {},
   "outputs": [],
   "source": [
    "n_episodes = 50\n",
    "seed_value = 1234"
   ]
  },
  {
   "cell_type": "code",
   "execution_count": 22,
   "metadata": {},
   "outputs": [],
   "source": [
    "source_env = gym.make('CustomHopper-source-v0')\n",
    "target_env = gym.make('CustomHopper-target-v0')\n"
   ]
  },
  {
   "cell_type": "code",
   "execution_count": 23,
   "metadata": {},
   "outputs": [],
   "source": [
    "source_model = SAC.load(\"SAC-hyper-eval_callback/SAC_steps_100000_lr_0.0003_gamma_0.99_tau_0.005_ent_coef_auto/best_model.zip\")\n",
    "target_model = SAC.load(\"SAC-hyper-eval_callback/SAC_steps_100000_lr_0.0003_gamma_0.99_tau_0.005_ent_coef_auto_target/best_model.zip\")"
   ]
  },
  {
   "cell_type": "code",
   "execution_count": 24,
   "metadata": {},
   "outputs": [],
   "source": [
    "rewards_list_source_source = np.array([])\n",
    "rewards_list_source_target = np.array([])\n",
    "rewards_list_target_target = np.array([])"
   ]
  },
  {
   "cell_type": "code",
   "execution_count": 25,
   "metadata": {},
   "outputs": [
    {
     "name": "stdout",
     "output_type": "stream",
     "text": [
      "Episode 0 reward: 1170.2465183466145 in total 391 steps\n",
      "Episode 1 reward: 1198.857420807821 in total 401 steps\n",
      "Episode 2 reward: 1079.487376146681 in total 356 steps\n",
      "Episode 3 reward: 1203.781639530293 in total 404 steps\n",
      "Episode 4 reward: 1216.852024172807 in total 412 steps\n",
      "Episode 5 reward: 1222.0360152003666 in total 413 steps\n",
      "Episode 6 reward: 1199.3228180880665 in total 401 steps\n",
      "Episode 7 reward: 1208.0072099833378 in total 404 steps\n",
      "Episode 8 reward: 1200.8485560287734 in total 399 steps\n",
      "Episode 9 reward: 1241.4603155784903 in total 422 steps\n",
      "Episode 10 reward: 1194.8984120656803 in total 403 steps\n",
      "Episode 11 reward: 1120.142393210361 in total 374 steps\n",
      "Episode 12 reward: 1190.4903761973433 in total 402 steps\n",
      "Episode 13 reward: 1233.7402656090742 in total 422 steps\n",
      "Episode 14 reward: 1237.3452924053593 in total 419 steps\n",
      "Episode 15 reward: 1234.343580934988 in total 419 steps\n",
      "Episode 16 reward: 1192.4195518731835 in total 397 steps\n",
      "Episode 17 reward: 1162.0773503259418 in total 389 steps\n",
      "Episode 18 reward: 1139.9837168582578 in total 383 steps\n",
      "Episode 19 reward: 1226.3956015082385 in total 412 steps\n",
      "Episode 20 reward: 1195.1320619094124 in total 400 steps\n",
      "Episode 21 reward: 1083.2653141945518 in total 356 steps\n",
      "Episode 22 reward: 1149.2411474853463 in total 386 steps\n",
      "Episode 23 reward: 1228.6593094343873 in total 420 steps\n",
      "Episode 24 reward: 1206.3604856217592 in total 401 steps\n",
      "Episode 25 reward: 1229.3633665074742 in total 415 steps\n",
      "Episode 26 reward: 1216.3110889910147 in total 411 steps\n",
      "Episode 27 reward: 1192.48839323683 in total 400 steps\n",
      "Episode 28 reward: 1224.348228901075 in total 414 steps\n",
      "Episode 29 reward: 1159.825186166616 in total 389 steps\n",
      "Episode 30 reward: 1117.9260577198045 in total 370 steps\n",
      "Episode 31 reward: 973.045773569502 in total 315 steps\n",
      "Episode 32 reward: 1104.1957596948391 in total 369 steps\n",
      "Episode 33 reward: 1201.4599840846913 in total 400 steps\n",
      "Episode 34 reward: 1220.7806648706878 in total 411 steps\n",
      "Episode 35 reward: 1281.8346966236536 in total 435 steps\n",
      "Episode 36 reward: 1208.936150512678 in total 407 steps\n",
      "Episode 37 reward: 1233.8083452711237 in total 420 steps\n",
      "Episode 38 reward: 1198.403855855411 in total 396 steps\n",
      "Episode 39 reward: 1173.6176451205004 in total 394 steps\n",
      "Episode 40 reward: 1169.7010102221113 in total 392 steps\n",
      "Episode 41 reward: 1210.6957585483037 in total 404 steps\n",
      "Episode 42 reward: 1124.1963552177203 in total 379 steps\n",
      "Episode 43 reward: 1224.0116579429002 in total 409 steps\n",
      "Episode 44 reward: 1274.8224236222381 in total 432 steps\n",
      "Episode 45 reward: 1233.2045756241273 in total 418 steps\n",
      "Episode 46 reward: 1203.5295506067125 in total 401 steps\n",
      "Episode 47 reward: 1210.186139903436 in total 409 steps\n",
      "Episode 48 reward: 1222.9527004037177 in total 413 steps\n",
      "Episode 49 reward: 1137.4905800252818 in total 381 steps\n"
     ]
    }
   ],
   "source": [
    "for i in range(n_episodes):\n",
    "    done = False\n",
    "    source_env.seed(seed_value + i)\n",
    "    state = source_env.reset()\n",
    "    total_reward = 0\n",
    "    step_count = 0\n",
    "\n",
    "    while not done:\n",
    "        action, _states = source_model.predict(state, deterministic=True)\n",
    "\n",
    "        state, reward, done, info = source_env.step(action)\n",
    "        total_reward += reward\n",
    "        step_count += 1\n",
    "        \n",
    "\n",
    "    print(f\"Episode {i} reward: {total_reward} in total {step_count} steps\")\n",
    "    rewards_list_source_source = np.append(rewards_list_source_source, total_reward)"
   ]
  },
  {
   "cell_type": "code",
   "execution_count": 26,
   "metadata": {},
   "outputs": [
    {
     "name": "stdout",
     "output_type": "stream",
     "text": [
      "Episode 0 reward: 852.7420834960893 in total 280 steps\n",
      "Episode 1 reward: 799.9089942386285 in total 265 steps\n",
      "Episode 2 reward: 888.1481920700843 in total 293 steps\n",
      "Episode 3 reward: 807.6815032029328 in total 263 steps\n",
      "Episode 4 reward: 803.0516165891312 in total 268 steps\n",
      "Episode 5 reward: 817.6443682349866 in total 270 steps\n",
      "Episode 6 reward: 808.4798310817898 in total 268 steps\n",
      "Episode 7 reward: 797.574630342532 in total 258 steps\n",
      "Episode 8 reward: 826.4185063177931 in total 272 steps\n",
      "Episode 9 reward: 771.4527218923258 in total 250 steps\n",
      "Episode 10 reward: 862.7416574542921 in total 282 steps\n",
      "Episode 11 reward: 767.3375382875482 in total 246 steps\n",
      "Episode 12 reward: 774.0670735280785 in total 249 steps\n",
      "Episode 13 reward: 782.9269890500866 in total 254 steps\n",
      "Episode 14 reward: 759.907947884288 in total 247 steps\n",
      "Episode 15 reward: 868.0315761976831 in total 283 steps\n",
      "Episode 16 reward: 858.6338773571255 in total 281 steps\n",
      "Episode 17 reward: 761.2443500520969 in total 249 steps\n",
      "Episode 18 reward: 842.9079615273803 in total 276 steps\n",
      "Episode 19 reward: 784.1649931004156 in total 253 steps\n",
      "Episode 20 reward: 757.7152859046168 in total 247 steps\n",
      "Episode 21 reward: 918.6533978207647 in total 303 steps\n",
      "Episode 22 reward: 793.4830436794903 in total 258 steps\n",
      "Episode 23 reward: 744.1484809940297 in total 241 steps\n",
      "Episode 24 reward: 784.0779447687709 in total 255 steps\n",
      "Episode 25 reward: 796.6626096089889 in total 258 steps\n",
      "Episode 26 reward: 773.5339063902518 in total 249 steps\n",
      "Episode 27 reward: 818.133874533904 in total 269 steps\n",
      "Episode 28 reward: 814.1943601260168 in total 270 steps\n",
      "Episode 29 reward: 775.1519057806672 in total 251 steps\n",
      "Episode 30 reward: 757.3143055486287 in total 245 steps\n",
      "Episode 31 reward: 759.3085113135953 in total 246 steps\n",
      "Episode 32 reward: 810.2933658121905 in total 265 steps\n",
      "Episode 33 reward: 813.1182709724582 in total 265 steps\n",
      "Episode 34 reward: 773.459430992746 in total 249 steps\n",
      "Episode 35 reward: 811.5569933744996 in total 268 steps\n",
      "Episode 36 reward: 800.5382071679288 in total 265 steps\n",
      "Episode 37 reward: 859.8819920529189 in total 281 steps\n",
      "Episode 38 reward: 866.7259858922633 in total 283 steps\n",
      "Episode 39 reward: 806.3578081841993 in total 267 steps\n",
      "Episode 40 reward: 812.2382975445372 in total 271 steps\n",
      "Episode 41 reward: 814.1514563048893 in total 269 steps\n",
      "Episode 42 reward: 904.5600689426117 in total 302 steps\n",
      "Episode 43 reward: 812.0749863934115 in total 267 steps\n",
      "Episode 44 reward: 811.7928595525872 in total 269 steps\n",
      "Episode 45 reward: 804.5659075888348 in total 265 steps\n",
      "Episode 46 reward: 814.77836513348 in total 271 steps\n",
      "Episode 47 reward: 788.9452921241835 in total 256 steps\n",
      "Episode 48 reward: 752.1243374962053 in total 245 steps\n",
      "Episode 49 reward: 809.4858082326813 in total 268 steps\n"
     ]
    }
   ],
   "source": [
    "for i in range(n_episodes):\n",
    "    done = False\n",
    "    target_env.seed(seed_value + i)\n",
    "    state = target_env.reset()\n",
    "    total_reward = 0\n",
    "    step_count = 0\n",
    "\n",
    "    while not done:\n",
    "        action, _states = source_model.predict(state, deterministic=True)\n",
    "\n",
    "        state, reward, done, info = target_env.step(action)\n",
    "        total_reward += reward\n",
    "        step_count += 1\n",
    "\n",
    "    print(f\"Episode {i} reward: {total_reward} in total {step_count} steps\")\n",
    "    rewards_list_source_target = np.append(rewards_list_source_target, total_reward)"
   ]
  },
  {
   "cell_type": "code",
   "execution_count": 27,
   "metadata": {},
   "outputs": [
    {
     "name": "stdout",
     "output_type": "stream",
     "text": [
      "Episode 0 reward: 1610.5399026787748 in total 500 steps\n",
      "Episode 1 reward: 1543.355959650855 in total 500 steps\n",
      "Episode 2 reward: 1500.3297771981283 in total 500 steps\n",
      "Episode 3 reward: 1587.6367124275694 in total 500 steps\n",
      "Episode 4 reward: 1561.1068944172466 in total 500 steps\n",
      "Episode 5 reward: 1516.182103998069 in total 500 steps\n",
      "Episode 6 reward: 1583.339949404261 in total 500 steps\n",
      "Episode 7 reward: 1504.9927594494945 in total 500 steps\n",
      "Episode 8 reward: 1635.41457912028 in total 482 steps\n",
      "Episode 9 reward: 1530.3060499681994 in total 500 steps\n",
      "Episode 10 reward: 1574.7617136434267 in total 500 steps\n",
      "Episode 11 reward: 1524.0105733006003 in total 500 steps\n",
      "Episode 12 reward: 1565.583769696052 in total 500 steps\n",
      "Episode 13 reward: 1496.3742305816334 in total 500 steps\n",
      "Episode 14 reward: 1531.5134033246875 in total 500 steps\n",
      "Episode 15 reward: 1582.401801714155 in total 500 steps\n",
      "Episode 16 reward: 1614.1109682432582 in total 500 steps\n",
      "Episode 17 reward: 1557.4138094461473 in total 500 steps\n",
      "Episode 18 reward: 1595.5206643227887 in total 500 steps\n",
      "Episode 19 reward: 1635.403976440977 in total 500 steps\n",
      "Episode 20 reward: 1552.3346046070976 in total 500 steps\n",
      "Episode 21 reward: 1566.9167853468557 in total 500 steps\n",
      "Episode 22 reward: 1527.6812497151589 in total 500 steps\n",
      "Episode 23 reward: 1539.6126090551668 in total 500 steps\n",
      "Episode 24 reward: 1565.58068762927 in total 500 steps\n",
      "Episode 25 reward: 1509.841006882051 in total 500 steps\n",
      "Episode 26 reward: 1627.266159151574 in total 500 steps\n",
      "Episode 27 reward: 1594.6838592076638 in total 500 steps\n",
      "Episode 28 reward: 1627.3417953484504 in total 500 steps\n",
      "Episode 29 reward: 1610.1449256505666 in total 500 steps\n",
      "Episode 30 reward: 1579.139047863577 in total 500 steps\n",
      "Episode 31 reward: 1505.95395921611 in total 500 steps\n",
      "Episode 32 reward: 1529.9062787393675 in total 500 steps\n",
      "Episode 33 reward: 1641.4181309499565 in total 491 steps\n",
      "Episode 34 reward: 1526.2664113513124 in total 500 steps\n",
      "Episode 35 reward: 1560.2885125753855 in total 500 steps\n",
      "Episode 36 reward: 1602.0246968467977 in total 500 steps\n",
      "Episode 37 reward: 1627.3880338192619 in total 500 steps\n",
      "Episode 38 reward: 1567.0749767496152 in total 500 steps\n",
      "Episode 39 reward: 1634.761227453421 in total 496 steps\n",
      "Episode 40 reward: 1535.209029676187 in total 500 steps\n",
      "Episode 41 reward: 1616.6619274002521 in total 500 steps\n",
      "Episode 42 reward: 1532.1330885789143 in total 500 steps\n",
      "Episode 43 reward: 1664.584237120708 in total 500 steps\n",
      "Episode 44 reward: 1590.4843976125742 in total 500 steps\n",
      "Episode 45 reward: 1604.2918192585307 in total 500 steps\n",
      "Episode 46 reward: 1593.2755717904183 in total 500 steps\n",
      "Episode 47 reward: 1618.937953861217 in total 500 steps\n",
      "Episode 48 reward: 1529.0293121654383 in total 500 steps\n",
      "Episode 49 reward: 1595.766129174053 in total 500 steps\n"
     ]
    }
   ],
   "source": [
    "for i in range(n_episodes):\n",
    "    done = False\n",
    "    target_env.seed(seed_value + i)\n",
    "    state = target_env.reset()\n",
    "    total_reward = 0\n",
    "    step_count = 0\n",
    "\n",
    "    while not done:\n",
    "        action, _states = target_model.predict(state, deterministic=True)\n",
    "\n",
    "        state, reward, done, info = target_env.step(action)\n",
    "        total_reward += reward\n",
    "        step_count += 1\n",
    "\n",
    "    print(f\"Episode {i} reward: {total_reward} in total {step_count} steps\")\n",
    "    rewards_list_target_target = np.append(rewards_list_target_target, total_reward)"
   ]
  },
  {
   "cell_type": "code",
   "execution_count": 28,
   "metadata": {},
   "outputs": [
    {
     "name": "stdout",
     "output_type": "stream",
     "text": [
      "source-source: 1189.6506140551917 +- 53.70013788502213\n",
      "source-target: 807.881869442753 +- 39.18574511383026\n",
      "target-target: 1572.525960476471 +- 43.40665982784896\n"
     ]
    }
   ],
   "source": [
    "print(f\"source-source: {rewards_list_source_source.mean()} +- {rewards_list_source_source.std()}\")\n",
    "print(f\"source-target: {rewards_list_source_target.mean()} +- {rewards_list_source_target.std()}\")\n",
    "print(f\"target-target: {rewards_list_target_target.mean()} +- {rewards_list_target_target.std()}\")"
   ]
  },
  {
   "cell_type": "code",
   "execution_count": 29,
   "metadata": {},
   "outputs": [
    {
     "data": {
      "image/png": "[encoded data removed]",
      "text/plain": [
       "<Figure size 640x480 with 1 Axes>"
      ]
     },
     "metadata": {},
     "output_type": "display_data"
    }
   ],
   "source": [
    "# plot histograms\n",
    "plt.hist(rewards_list_source_source, bins=20, alpha=0.5, label='source-source')\n",
    "plt.hist(rewards_list_source_target, bins=20, alpha=0.5, label='source-target')\n",
    "plt.hist(rewards_list_target_target, bins=20, alpha=0.5, label='target-target')\n",
    "\n",
    "# plot a vertical line for the mean\n",
    "plt.axvline(rewards_list_source_source.mean(), color='k', linestyle='dashed', linewidth=1)\n",
    "plt.axvline(rewards_list_source_target.mean(), color='k', linestyle='dashed', linewidth=1)\n",
    "plt.axvline(rewards_list_target_target.mean(), color='k', linestyle='dashed', linewidth=1)\n",
    "\n",
    "plt.legend(loc='upper right')\n",
    "plt.title('Histogram of rewards')\n",
    "plt.xlabel('Reward')\n",
    "plt.ylabel('Frequency')\n",
    "plt.show()"
   ]
  },
  {
   "cell_type": "code",
   "execution_count": 56,
   "metadata": {},
   "outputs": [
    {
     "data": {
      "text/plain": [
       "[1234]"
      ]
     },
     "execution_count": 56,
     "metadata": {},
     "output_type": "execute_result"
    }
   ],
   "source": []
  }
 ],
 "metadata": {
  "kernelspec": {
   "display_name": "mldl",
   "language": "python",
   "name": "python3"
  },
  "language_info": {
   "codemirror_mode": {
    "name": "ipython",
    "version": 3
   },
   "file_extension": ".py",
   "mimetype": "text/x-python",
   "name": "python",
   "nbconvert_exporter": "python",
   "pygments_lexer": "ipython3",
   "version": "3.7.12"
  }
 },
 "nbformat": 4,
 "nbformat_minor": 2
}
